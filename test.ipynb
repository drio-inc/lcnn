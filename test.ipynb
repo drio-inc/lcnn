{
 "cells": [
  {
   "cell_type": "code",
   "execution_count": 1,
   "metadata": {},
   "outputs": [],
   "source": [
    "\n",
    "import os\n",
    "import os.path as osp\n",
    "import pprint\n",
    "import random\n",
    "\n",
    "import matplotlib as mpl\n",
    "import matplotlib.pyplot as plt\n",
    "import numpy as np\n",
    "import skimage.io\n",
    "import skimage.transform\n",
    "import torch\n",
    "import yaml\n",
    "from docopt import docopt\n",
    "\n",
    "import lcnn\n",
    "from lcnn.config import C, M\n",
    "from lcnn.models.line_vectorizer import LineVectorizer\n",
    "from lcnn.models.multitask_learner import MultitaskHead, MultitaskLearner\n",
    "from lcnn.postprocess import postprocess\n",
    "from lcnn.utils import recursive_to\n",
    "\n",
    "PLTOPTS = {\"color\": \"#33FFFF\", \"s\": 15, \"edgecolors\": \"none\", \"zorder\": 5}\n",
    "cmap = plt.get_cmap(\"jet\")\n",
    "norm = mpl.colors.Normalize(vmin=0.9, vmax=1.0)\n",
    "sm = plt.cm.ScalarMappable(cmap=cmap, norm=norm)\n",
    "sm.set_array([])\n",
    "\n",
    "\n",
    "def c(x):\n",
    "    return sm.to_rgba(x)\n",
    "\n",
    "def load_model(config_file = \"config/wireframe.yaml\",\n",
    "               device = 'cpu',\n",
    "               device_n='0',\n",
    "               model_path='/home/raghib/Desktop/lcnn/190418-201834-f8934c6-lr4d10-312k.pth'\n",
    "    ):\n",
    "    C.update(C.from_yaml(filename=config_file))\n",
    "    M.update(C.model)\n",
    "    pprint.pprint(C, indent=4)\n",
    "\n",
    "    random.seed(0)\n",
    "    np.random.seed(0)\n",
    "    torch.manual_seed(0)\n",
    "\n",
    "    device_name = device\n",
    "    os.environ[\"CUDA_VISIBLE_DEVICES\"] = device_n\n",
    "    if torch.cuda.is_available():\n",
    "        device_name = \"cuda\"\n",
    "        torch.backends.cudnn.deterministic = True\n",
    "        torch.cuda.manual_seed(0)\n",
    "        print(\"Let's use\", torch.cuda.device_count(), \"GPU(s)!\")\n",
    "    else:\n",
    "        print(\"CUDA is not available\")\n",
    "    device = torch.device(device_name)\n",
    "    checkpoint = torch.load(model_path, map_location=device)\n",
    "\n",
    "    # Load model\n",
    "    model = lcnn.models.hg(\n",
    "        depth=M.depth,\n",
    "        head=lambda c_in, c_out: MultitaskHead(c_in, c_out),\n",
    "        num_stacks=M.num_stacks,\n",
    "        num_blocks=M.num_blocks,\n",
    "        num_classes=sum(sum(M.head_size, [])),\n",
    "    )\n",
    "    model = MultitaskLearner(model)\n",
    "    model = LineVectorizer(model)\n",
    "    model.load_state_dict(checkpoint[\"model_state_dict\"])\n",
    "    model = model.to(device)\n",
    "    model.eval()\n",
    "    return model\n",
    "\n",
    "    # for imname in image_list:\n",
    "def infer(model,im,device,min_conf=0.94):\n",
    "    if isinstance(im,str):\n",
    "        im = skimage.io.imread(im)\n",
    "    if im.ndim == 2:\n",
    "        im = np.repeat(im[:, :, None], 3, 2)\n",
    "    im = im[:, :, :3]\n",
    "    im_resized = skimage.transform.resize(im, (512, 512)) * 255\n",
    "    image = (im_resized - M.image.mean) / M.image.stddev\n",
    "    image = torch.from_numpy(np.rollaxis(image, 2)[None].copy()).float()\n",
    "    with torch.no_grad():\n",
    "        input_dict = {\n",
    "            \"image\": image.to(device),\n",
    "            \"meta\": [\n",
    "                {\n",
    "                    \"junc\": torch.zeros(1, 2).to(device),\n",
    "                    \"jtyp\": torch.zeros(1, dtype=torch.uint8).to(device),\n",
    "                    \"Lpos\": torch.zeros(2, 2, dtype=torch.uint8).to(device),\n",
    "                    \"Lneg\": torch.zeros(2, 2, dtype=torch.uint8).to(device),\n",
    "                }\n",
    "            ],\n",
    "            \"target\": {\n",
    "                \"jmap\": torch.zeros([1, 1, 128, 128]).to(device),\n",
    "                \"joff\": torch.zeros([1, 1, 2, 128, 128]).to(device),\n",
    "            },\n",
    "            \"mode\": \"testing\",\n",
    "        }\n",
    "        H = model(input_dict)[\"preds\"]\n",
    "\n",
    "    lines = H[\"lines\"][0].cpu().numpy() / 128 * im.shape[:2]\n",
    "    scores = H[\"score\"][0].cpu().numpy()\n",
    "    for i in range(1, len(lines)):\n",
    "        if (lines[i] == lines[0]).all():\n",
    "            lines = lines[:i]\n",
    "            scores = scores[:i]\n",
    "            break\n",
    "\n",
    "    # postprocess lines to remove overlapped lines\n",
    "    diag = (im.shape[0] ** 2 + im.shape[1] ** 2) ** 0.5\n",
    "    nlines, nscores = postprocess(lines, scores, diag * 0.01, 0, False)\n",
    "    nl_,ns_=[],[]\n",
    "    for (a, b), s in zip(nlines, nscores):\n",
    "        if s < min_conf:\n",
    "            continue\n",
    "        else:\n",
    "            nl_.append((a,b))\n",
    "            ns_.append(s)\n",
    "    return nl_,ns_\n",
    "\n"
   ]
  },
  {
   "cell_type": "code",
   "execution_count": 2,
   "metadata": {},
   "outputs": [
    {
     "name": "stdout",
     "output_type": "stream",
     "text": [
      "<Box: {'io': {'logdir': 'logs/', 'datadir': 'data/wireframe/', 'resume_from': None, 'num_workers': 4, 'tensorboard_port': 0, 'validation_interval': 24000}, 'model': {'image': {'mean': [109.73, 103.832, 98.681], 'stddev': [22.275, 22.124, 23.229]}, 'batch_size': 6, 'batch_size_eval': 2, 'head_size': [[2], [1], [2]], 'loss_weight': {'jmap': 8.0, 'lmap': 0.5, 'joff': 0.25, 'lpos': 1, 'lneg': 1}, 'backbone': 'stacked_hourglass', 'depth': 4, 'num_stacks': 2, 'num_blocks': 1, 'n_stc_posl': 300, 'n_stc_negl': 40, 'n_dyn_junc': 300, 'n_dyn_posl': 300, 'n_dyn_negl': 80, 'n_dyn_othr': 600, 'n_pts0': 32, 'n_pts1': 8, 'dim_loi': 128, 'dim_fc': 1024, 'n_out_junc': 250, 'n_out_line': 2500, 'use_cood': 0, 'use_slop': 0, 'use_conv': 0, 'eval_junc_thres': 0.008}, 'optim': {'name': 'Adam', 'lr': 0.0004, 'amsgrad': True, 'weight_decay': 0.0001, 'max_epoch': 24, 'lr_decay_epoch': 10}}>\n",
      "CUDA is not available\n"
     ]
    },
    {
     "name": "stderr",
     "output_type": "stream",
     "text": [
      "/tmp/ipykernel_12637/3724446677.py:55: FutureWarning: You are using `torch.load` with `weights_only=False` (the current default value), which uses the default pickle module implicitly. It is possible to construct malicious pickle data which will execute arbitrary code during unpickling (See https://github.com/pytorch/pytorch/blob/main/SECURITY.md#untrusted-models for more details). In a future release, the default value for `weights_only` will be flipped to `True`. This limits the functions that could be executed during unpickling. Arbitrary objects will no longer be allowed to be loaded via this mode unless they are explicitly allowlisted by the user via `torch.serialization.add_safe_globals`. We recommend you start setting `weights_only=True` for any use case where you don't have full control of the loaded file. Please open an issue on GitHub for any issues related to this experimental feature.\n",
      "  checkpoint = torch.load(model_path, map_location=device)\n"
     ]
    }
   ],
   "source": [
    "model=load_model()"
   ]
  },
  {
   "cell_type": "code",
   "execution_count": 3,
   "metadata": {},
   "outputs": [],
   "source": [
    "import cv2\n",
    "img=cv2.imread('test.png')"
   ]
  },
  {
   "cell_type": "code",
   "execution_count": 4,
   "metadata": {},
   "outputs": [],
   "source": [
    "img=cv2.cvtColor(img,cv2.COLOR_BGR2RGB)"
   ]
  },
  {
   "cell_type": "code",
   "execution_count": 5,
   "metadata": {},
   "outputs": [
    {
     "name": "stderr",
     "output_type": "stream",
     "text": [
      "/home/raghib/anaconda3/envs/autogen_env/lib/python3.10/site-packages/torch/functional.py:513: UserWarning: torch.meshgrid: in an upcoming release, it will be required to pass the indexing argument. (Triggered internally at ../aten/src/ATen/native/TensorShape.cpp:3609.)\n",
      "  return _VF.meshgrid(tensors, **kwargs)  # type: ignore[attr-defined]\n"
     ]
    }
   ],
   "source": [
    "lines,conf=infer(model,img,'cpu')"
   ]
  },
  {
   "cell_type": "code",
   "execution_count": 55,
   "metadata": {},
   "outputs": [],
   "source": [
    "for i, t in enumerate([0.94, 0.95, 0.96, 0.97, 0.98, 0.99]):\n",
    "    plt.gca().set_axis_off()\n",
    "    plt.subplots_adjust(top=1, bottom=0, right=1, left=0, hspace=0, wspace=0)\n",
    "    plt.margins(0, 0)\n",
    "    for (a, b), s in zip(lines[:5], conf[:5]):\n",
    "        plt.plot([a[1], b[1]], [a[0], b[0]], c=c(s), linewidth=2, zorder=s)\n",
    "        plt.scatter(a[1], a[0], **PLTOPTS)\n",
    "        plt.scatter(b[1], b[0], **PLTOPTS)\n",
    "    plt.gca().xaxis.set_major_locator(plt.NullLocator())\n",
    "    plt.gca().yaxis.set_major_locator(plt.NullLocator())\n",
    "    plt.imshow(img)\n",
    "    plt.close()"
   ]
  },
  {
   "cell_type": "code",
   "execution_count": 56,
   "metadata": {},
   "outputs": [],
   "source": [
    "x_values = [abs(line[0][0]-line[1][0]) for line in lines]\n"
   ]
  },
  {
   "cell_type": "code",
   "execution_count": 67,
   "metadata": {},
   "outputs": [],
   "source": [
    "y_sum=sum([i[1] for line in lines for i in line])\n",
    "y_values = [np.isclose((line[0][0],line[0][1]/y_sum),(line[1][0],line[1][1]/y_sum)) for line in lines]"
   ]
  },
  {
   "cell_type": "code",
   "execution_count": 68,
   "metadata": {},
   "outputs": [
    {
     "data": {
      "text/plain": [
       "[array([False, False]),\n",
       " array([False, False]),\n",
       " array([False, False]),\n",
       " array([False, False]),\n",
       " array([False,  True]),\n",
       " array([False, False]),\n",
       " array([False, False]),\n",
       " array([False, False]),\n",
       " array([False, False]),\n",
       " array([False, False]),\n",
       " array([False, False]),\n",
       " array([False, False]),\n",
       " array([False, False]),\n",
       " array([False, False]),\n",
       " array([False, False]),\n",
       " array([False, False]),\n",
       " array([False, False]),\n",
       " array([False, False]),\n",
       " array([False, False]),\n",
       " array([False, False]),\n",
       " array([False, False])]"
      ]
     },
     "execution_count": 68,
     "metadata": {},
     "output_type": "execute_result"
    }
   ],
   "source": [
    "y_values"
   ]
  },
  {
   "cell_type": "code",
   "execution_count": 61,
   "metadata": {},
   "outputs": [
    {
     "data": {
      "text/plain": [
       "[0.35527221858501434,\n",
       " 0.24376487731933594,\n",
       " 0.2543020248413086,\n",
       " 0.17311620712280273,\n",
       " 0.003941059112548828,\n",
       " 0.25923871994018555,\n",
       " 0.23007488250732422,\n",
       " 130.03138732910156,\n",
       " 0.2083679437637329,\n",
       " 0.16792023181915283,\n",
       " 0.1223595142364502,\n",
       " 680.1871381402016,\n",
       " 0.1560659408569336,\n",
       " 680.8091617226601,\n",
       " 680.4110888242722,\n",
       " 681.6156644672155,\n",
       " 680.4699376523495,\n",
       " 680.395845092833,\n",
       " 680.3228667899966,\n",
       " 680.7353498339653,\n",
       " 0.10084962844848633]"
      ]
     },
     "execution_count": 61,
     "metadata": {},
     "output_type": "execute_result"
    }
   ],
   "source": [
    "y_values"
   ]
  },
  {
   "cell_type": "code",
   "execution_count": null,
   "metadata": {},
   "outputs": [],
   "source": []
  }
 ],
 "metadata": {
  "kernelspec": {
   "display_name": "autogen_env",
   "language": "python",
   "name": "python3"
  },
  "language_info": {
   "codemirror_mode": {
    "name": "ipython",
    "version": 3
   },
   "file_extension": ".py",
   "mimetype": "text/x-python",
   "name": "python",
   "nbconvert_exporter": "python",
   "pygments_lexer": "ipython3",
   "version": "3.10.0"
  }
 },
 "nbformat": 4,
 "nbformat_minor": 2
}
